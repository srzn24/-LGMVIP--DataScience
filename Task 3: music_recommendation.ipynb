{
  "cells": [
    {
      "cell_type": "markdown",
      "metadata": {
        "id": "fjuiR_BmwU2_"
      },
      "source": [
        "# Music Recommendation System"
      ]
    },
    {
      "cell_type": "code",
      "execution_count": 1,
      "metadata": {
        "_cell_guid": "b1076dfc-b9ad-4769-8c92-a6c4dae69d19",
        "_uuid": "8f2839f25d086af736a60e9eeb907d3b93b6e0e5",
        "execution": {
          "iopub.execute_input": "2022-03-15T15:50:49.129571Z",
          "iopub.status.busy": "2022-03-15T15:50:49.129303Z",
          "iopub.status.idle": "2022-03-15T15:50:49.136707Z",
          "shell.execute_reply": "2022-03-15T15:50:49.135825Z",
          "shell.execute_reply.started": "2022-03-15T15:50:49.129544Z"
        },
        "trusted": true,
        "id": "OVT-oHn3wU3D"
      },
      "outputs": [],
      "source": [
        "# Load Python libraries\n",
        "from sklearn.model_selection import cross_validate\n",
        "from sklearn.model_selection import GridSearchCV\n",
        "from sklearn.model_selection import train_test_split\n",
        "from sklearn import ensemble, metrics\n",
        "import xgboost as xgb\n",
        "import numpy as np\n",
        "import pandas as pd\n",
        "import seaborn as sns\n",
        "import matplotlib.pyplot as plt\n",
        "import matplotlib as mpl\n",
        "import warnings"
      ]
    },
    {
      "cell_type": "markdown",
      "metadata": {
        "id": "e2JKsdVjwU3F"
      },
      "source": [
        "### Importing Datasets"
      ]
    },
    {
      "cell_type": "code",
      "execution_count": 2,
      "metadata": {
        "execution": {
          "iopub.execute_input": "2022-03-15T15:50:49.138904Z",
          "iopub.status.busy": "2022-03-15T15:50:49.138543Z",
          "iopub.status.idle": "2022-03-15T15:51:02.108454Z",
          "shell.execute_reply": "2022-03-15T15:51:02.107519Z",
          "shell.execute_reply.started": "2022-03-15T15:50:49.138859Z"
        },
        "trusted": true,
        "id": "EXsMzka6wU3G"
      },
      "outputs": [],
      "source": [
        "df = pd.read_csv('/content/train.csv')"
      ]
    },
    {
      "cell_type": "code",
      "execution_count": 3,
      "metadata": {
        "execution": {
          "iopub.execute_input": "2022-03-15T15:51:02.110308Z",
          "iopub.status.busy": "2022-03-15T15:51:02.109973Z",
          "iopub.status.idle": "2022-03-15T15:51:02.122533Z",
          "shell.execute_reply": "2022-03-15T15:51:02.121668Z",
          "shell.execute_reply.started": "2022-03-15T15:51:02.110275Z"
        },
        "trusted": true,
        "colab": {
          "base_uri": "https://localhost:8080/",
          "height": 305
        },
        "id": "IKGJEjGVwU3G",
        "outputId": "31ca3624-2f5f-4ea1-9597-d08913ca2518"
      },
      "outputs": [
        {
          "output_type": "execute_result",
          "data": {
            "text/plain": [
              "                                           msno  \\\n",
              "0  FGtllVqz18RPiwJj/edr2gV78zirAiY/9SmYvia+kCg=   \n",
              "1  Xumu+NIjS6QYVxDS4/t3SawvJ7viT9hPKXmf0RtLNx8=   \n",
              "2  Xumu+NIjS6QYVxDS4/t3SawvJ7viT9hPKXmf0RtLNx8=   \n",
              "3  Xumu+NIjS6QYVxDS4/t3SawvJ7viT9hPKXmf0RtLNx8=   \n",
              "4  FGtllVqz18RPiwJj/edr2gV78zirAiY/9SmYvia+kCg=   \n",
              "\n",
              "                                        song_id source_system_tab  \\\n",
              "0  BBzumQNXUHKdEBOB7mAJuzok+IJA1c2Ryg/yzTF6tik=           explore   \n",
              "1  bhp/MpSNoqoxOIB+/l8WPqu6jldth4DIpCm3ayXnJqM=        my library   \n",
              "2  JNWfrrC7zNN7BdMpsISKa4Mw+xVJYNnxXh3/Epw7QgY=        my library   \n",
              "3  2A87tzfnJTSWqD7gIZHisolhe4DMdzkbd6LzO1KHjNs=        my library   \n",
              "4  3qm6XTZ6MOCU11x8FIVbAGH5l5uMkT3/ZalWG1oo2Gc=           explore   \n",
              "\n",
              "    source_screen_name      source_type  target  \n",
              "0              Explore  online-playlist     1.0  \n",
              "1  Local playlist more   local-playlist     1.0  \n",
              "2  Local playlist more   local-playlist     1.0  \n",
              "3  Local playlist more   local-playlist     1.0  \n",
              "4              Explore  online-playlist     1.0  "
            ],
            "text/html": [
              "\n",
              "  <div id=\"df-bc19ec11-0d62-4805-a14b-ff3c9f29c3ab\">\n",
              "    <div class=\"colab-df-container\">\n",
              "      <div>\n",
              "<style scoped>\n",
              "    .dataframe tbody tr th:only-of-type {\n",
              "        vertical-align: middle;\n",
              "    }\n",
              "\n",
              "    .dataframe tbody tr th {\n",
              "        vertical-align: top;\n",
              "    }\n",
              "\n",
              "    .dataframe thead th {\n",
              "        text-align: right;\n",
              "    }\n",
              "</style>\n",
              "<table border=\"1\" class=\"dataframe\">\n",
              "  <thead>\n",
              "    <tr style=\"text-align: right;\">\n",
              "      <th></th>\n",
              "      <th>msno</th>\n",
              "      <th>song_id</th>\n",
              "      <th>source_system_tab</th>\n",
              "      <th>source_screen_name</th>\n",
              "      <th>source_type</th>\n",
              "      <th>target</th>\n",
              "    </tr>\n",
              "  </thead>\n",
              "  <tbody>\n",
              "    <tr>\n",
              "      <th>0</th>\n",
              "      <td>FGtllVqz18RPiwJj/edr2gV78zirAiY/9SmYvia+kCg=</td>\n",
              "      <td>BBzumQNXUHKdEBOB7mAJuzok+IJA1c2Ryg/yzTF6tik=</td>\n",
              "      <td>explore</td>\n",
              "      <td>Explore</td>\n",
              "      <td>online-playlist</td>\n",
              "      <td>1.0</td>\n",
              "    </tr>\n",
              "    <tr>\n",
              "      <th>1</th>\n",
              "      <td>Xumu+NIjS6QYVxDS4/t3SawvJ7viT9hPKXmf0RtLNx8=</td>\n",
              "      <td>bhp/MpSNoqoxOIB+/l8WPqu6jldth4DIpCm3ayXnJqM=</td>\n",
              "      <td>my library</td>\n",
              "      <td>Local playlist more</td>\n",
              "      <td>local-playlist</td>\n",
              "      <td>1.0</td>\n",
              "    </tr>\n",
              "    <tr>\n",
              "      <th>2</th>\n",
              "      <td>Xumu+NIjS6QYVxDS4/t3SawvJ7viT9hPKXmf0RtLNx8=</td>\n",
              "      <td>JNWfrrC7zNN7BdMpsISKa4Mw+xVJYNnxXh3/Epw7QgY=</td>\n",
              "      <td>my library</td>\n",
              "      <td>Local playlist more</td>\n",
              "      <td>local-playlist</td>\n",
              "      <td>1.0</td>\n",
              "    </tr>\n",
              "    <tr>\n",
              "      <th>3</th>\n",
              "      <td>Xumu+NIjS6QYVxDS4/t3SawvJ7viT9hPKXmf0RtLNx8=</td>\n",
              "      <td>2A87tzfnJTSWqD7gIZHisolhe4DMdzkbd6LzO1KHjNs=</td>\n",
              "      <td>my library</td>\n",
              "      <td>Local playlist more</td>\n",
              "      <td>local-playlist</td>\n",
              "      <td>1.0</td>\n",
              "    </tr>\n",
              "    <tr>\n",
              "      <th>4</th>\n",
              "      <td>FGtllVqz18RPiwJj/edr2gV78zirAiY/9SmYvia+kCg=</td>\n",
              "      <td>3qm6XTZ6MOCU11x8FIVbAGH5l5uMkT3/ZalWG1oo2Gc=</td>\n",
              "      <td>explore</td>\n",
              "      <td>Explore</td>\n",
              "      <td>online-playlist</td>\n",
              "      <td>1.0</td>\n",
              "    </tr>\n",
              "  </tbody>\n",
              "</table>\n",
              "</div>\n",
              "      <button class=\"colab-df-convert\" onclick=\"convertToInteractive('df-bc19ec11-0d62-4805-a14b-ff3c9f29c3ab')\"\n",
              "              title=\"Convert this dataframe to an interactive table.\"\n",
              "              style=\"display:none;\">\n",
              "        \n",
              "  <svg xmlns=\"http://www.w3.org/2000/svg\" height=\"24px\"viewBox=\"0 0 24 24\"\n",
              "       width=\"24px\">\n",
              "    <path d=\"M0 0h24v24H0V0z\" fill=\"none\"/>\n",
              "    <path d=\"M18.56 5.44l.94 2.06.94-2.06 2.06-.94-2.06-.94-.94-2.06-.94 2.06-2.06.94zm-11 1L8.5 8.5l.94-2.06 2.06-.94-2.06-.94L8.5 2.5l-.94 2.06-2.06.94zm10 10l.94 2.06.94-2.06 2.06-.94-2.06-.94-.94-2.06-.94 2.06-2.06.94z\"/><path d=\"M17.41 7.96l-1.37-1.37c-.4-.4-.92-.59-1.43-.59-.52 0-1.04.2-1.43.59L10.3 9.45l-7.72 7.72c-.78.78-.78 2.05 0 2.83L4 21.41c.39.39.9.59 1.41.59.51 0 1.02-.2 1.41-.59l7.78-7.78 2.81-2.81c.8-.78.8-2.07 0-2.86zM5.41 20L4 18.59l7.72-7.72 1.47 1.35L5.41 20z\"/>\n",
              "  </svg>\n",
              "      </button>\n",
              "      \n",
              "  <style>\n",
              "    .colab-df-container {\n",
              "      display:flex;\n",
              "      flex-wrap:wrap;\n",
              "      gap: 12px;\n",
              "    }\n",
              "\n",
              "    .colab-df-convert {\n",
              "      background-color: #E8F0FE;\n",
              "      border: none;\n",
              "      border-radius: 50%;\n",
              "      cursor: pointer;\n",
              "      display: none;\n",
              "      fill: #1967D2;\n",
              "      height: 32px;\n",
              "      padding: 0 0 0 0;\n",
              "      width: 32px;\n",
              "    }\n",
              "\n",
              "    .colab-df-convert:hover {\n",
              "      background-color: #E2EBFA;\n",
              "      box-shadow: 0px 1px 2px rgba(60, 64, 67, 0.3), 0px 1px 3px 1px rgba(60, 64, 67, 0.15);\n",
              "      fill: #174EA6;\n",
              "    }\n",
              "\n",
              "    [theme=dark] .colab-df-convert {\n",
              "      background-color: #3B4455;\n",
              "      fill: #D2E3FC;\n",
              "    }\n",
              "\n",
              "    [theme=dark] .colab-df-convert:hover {\n",
              "      background-color: #434B5C;\n",
              "      box-shadow: 0px 1px 3px 1px rgba(0, 0, 0, 0.15);\n",
              "      filter: drop-shadow(0px 1px 2px rgba(0, 0, 0, 0.3));\n",
              "      fill: #FFFFFF;\n",
              "    }\n",
              "  </style>\n",
              "\n",
              "      <script>\n",
              "        const buttonEl =\n",
              "          document.querySelector('#df-bc19ec11-0d62-4805-a14b-ff3c9f29c3ab button.colab-df-convert');\n",
              "        buttonEl.style.display =\n",
              "          google.colab.kernel.accessAllowed ? 'block' : 'none';\n",
              "\n",
              "        async function convertToInteractive(key) {\n",
              "          const element = document.querySelector('#df-bc19ec11-0d62-4805-a14b-ff3c9f29c3ab');\n",
              "          const dataTable =\n",
              "            await google.colab.kernel.invokeFunction('convertToInteractive',\n",
              "                                                     [key], {});\n",
              "          if (!dataTable) return;\n",
              "\n",
              "          const docLinkHtml = 'Like what you see? Visit the ' +\n",
              "            '<a target=\"_blank\" href=https://colab.research.google.com/notebooks/data_table.ipynb>data table notebook</a>'\n",
              "            + ' to learn more about interactive tables.';\n",
              "          element.innerHTML = '';\n",
              "          dataTable['output_type'] = 'display_data';\n",
              "          await google.colab.output.renderOutput(dataTable, element);\n",
              "          const docLink = document.createElement('div');\n",
              "          docLink.innerHTML = docLinkHtml;\n",
              "          element.appendChild(docLink);\n",
              "        }\n",
              "      </script>\n",
              "    </div>\n",
              "  </div>\n",
              "  "
            ]
          },
          "metadata": {},
          "execution_count": 3
        }
      ],
      "source": [
        "df.head()"
      ]
    },
    {
      "cell_type": "code",
      "execution_count": 4,
      "metadata": {
        "execution": {
          "iopub.execute_input": "2022-03-15T15:51:02.123854Z",
          "iopub.status.busy": "2022-03-15T15:51:02.123574Z",
          "iopub.status.idle": "2022-03-15T15:51:02.134280Z",
          "shell.execute_reply": "2022-03-15T15:51:02.133276Z",
          "shell.execute_reply.started": "2022-03-15T15:51:02.123820Z"
        },
        "trusted": true,
        "colab": {
          "base_uri": "https://localhost:8080/"
        },
        "id": "OHaxeVe6wU3H",
        "outputId": "98426d5f-1c37-410a-b4a0-6ca9cb7baa91"
      },
      "outputs": [
        {
          "output_type": "execute_result",
          "data": {
            "text/plain": [
              "(54657, 6)"
            ]
          },
          "metadata": {},
          "execution_count": 4
        }
      ],
      "source": [
        "df.shape"
      ]
    },
    {
      "cell_type": "code",
      "execution_count": 5,
      "metadata": {
        "execution": {
          "iopub.execute_input": "2022-03-15T15:51:02.137499Z",
          "iopub.status.busy": "2022-03-15T15:51:02.136709Z",
          "iopub.status.idle": "2022-03-15T15:51:03.207179Z",
          "shell.execute_reply": "2022-03-15T15:51:03.206404Z",
          "shell.execute_reply.started": "2022-03-15T15:51:02.137457Z"
        },
        "trusted": true,
        "id": "VVULvMdswU3H"
      },
      "outputs": [],
      "source": [
        "df = df.sample(frac=0.1)"
      ]
    },
    {
      "cell_type": "code",
      "execution_count": 6,
      "metadata": {
        "execution": {
          "iopub.execute_input": "2022-03-15T15:51:03.208674Z",
          "iopub.status.busy": "2022-03-15T15:51:03.208429Z",
          "iopub.status.idle": "2022-03-15T15:51:03.559670Z",
          "shell.execute_reply": "2022-03-15T15:51:03.558844Z",
          "shell.execute_reply.started": "2022-03-15T15:51:03.208645Z"
        },
        "trusted": true,
        "colab": {
          "base_uri": "https://localhost:8080/"
        },
        "id": "DH2mM0DiwU3I",
        "outputId": "682158ed-7039-4aaa-c0f7-b3e60dfd80a4"
      },
      "outputs": [
        {
          "output_type": "stream",
          "name": "stdout",
          "text": [
            "<class 'pandas.core.frame.DataFrame'>\n",
            "Int64Index: 5466 entries, 51589 to 41380\n",
            "Data columns (total 6 columns):\n",
            " #   Column              Non-Null Count  Dtype  \n",
            "---  ------              --------------  -----  \n",
            " 0   msno                5466 non-null   object \n",
            " 1   song_id             5466 non-null   object \n",
            " 2   source_system_tab   5456 non-null   object \n",
            " 3   source_screen_name  5244 non-null   object \n",
            " 4   source_type         5463 non-null   object \n",
            " 5   target              5466 non-null   float64\n",
            "dtypes: float64(1), object(5)\n",
            "memory usage: 298.9+ KB\n"
          ]
        }
      ],
      "source": [
        "df.info()"
      ]
    },
    {
      "cell_type": "code",
      "execution_count": 7,
      "metadata": {
        "execution": {
          "iopub.execute_input": "2022-03-15T15:51:03.561259Z",
          "iopub.status.busy": "2022-03-15T15:51:03.561052Z",
          "iopub.status.idle": "2022-03-15T15:51:09.064362Z",
          "shell.execute_reply": "2022-03-15T15:51:09.063552Z",
          "shell.execute_reply.started": "2022-03-15T15:51:03.561233Z"
        },
        "trusted": true,
        "id": "GkhB3lz7wU3I"
      },
      "outputs": [],
      "source": [
        "songs = pd.read_csv('/content/songs.csv')"
      ]
    },
    {
      "cell_type": "code",
      "execution_count": 8,
      "metadata": {
        "execution": {
          "iopub.execute_input": "2022-03-15T15:51:09.065743Z",
          "iopub.status.busy": "2022-03-15T15:51:09.065516Z",
          "iopub.status.idle": "2022-03-15T15:51:09.076930Z",
          "shell.execute_reply": "2022-03-15T15:51:09.076084Z",
          "shell.execute_reply.started": "2022-03-15T15:51:09.065715Z"
        },
        "trusted": true,
        "colab": {
          "base_uri": "https://localhost:8080/"
        },
        "id": "iIiczoiYwU3J",
        "outputId": "d82430f3-3a42-4757-a1da-f5993f00b51f"
      },
      "outputs": [
        {
          "output_type": "stream",
          "name": "stdout",
          "text": [
            "<class 'pandas.core.frame.DataFrame'>\n",
            "RangeIndex: 73896 entries, 0 to 73895\n",
            "Data columns (total 7 columns):\n",
            " #   Column       Non-Null Count  Dtype  \n",
            "---  ------       --------------  -----  \n",
            " 0   song_id      73896 non-null  object \n",
            " 1   song_length  73896 non-null  int64  \n",
            " 2   genre_ids    72534 non-null  object \n",
            " 3   artist_name  73896 non-null  object \n",
            " 4   composer     42980 non-null  object \n",
            " 5   lyricist     20342 non-null  object \n",
            " 6   language     73895 non-null  float64\n",
            "dtypes: float64(1), int64(1), object(5)\n",
            "memory usage: 3.9+ MB\n"
          ]
        }
      ],
      "source": [
        "songs.info()"
      ]
    },
    {
      "cell_type": "code",
      "execution_count": 9,
      "metadata": {
        "execution": {
          "iopub.execute_input": "2022-03-15T15:51:09.078398Z",
          "iopub.status.busy": "2022-03-15T15:51:09.078171Z",
          "iopub.status.idle": "2022-03-15T15:51:12.026723Z",
          "shell.execute_reply": "2022-03-15T15:51:12.026136Z",
          "shell.execute_reply.started": "2022-03-15T15:51:09.078372Z"
        },
        "trusted": true,
        "id": "c-2aC4MewU3K"
      },
      "outputs": [],
      "source": [
        "df = pd.merge(df, songs, on='song_id', how='left')\n",
        "del songs"
      ]
    },
    {
      "cell_type": "code",
      "execution_count": 10,
      "metadata": {
        "execution": {
          "iopub.execute_input": "2022-03-15T15:51:12.028271Z",
          "iopub.status.busy": "2022-03-15T15:51:12.027871Z",
          "iopub.status.idle": "2022-03-15T15:51:12.518630Z",
          "shell.execute_reply": "2022-03-15T15:51:12.517834Z",
          "shell.execute_reply.started": "2022-03-15T15:51:12.028230Z"
        },
        "trusted": true,
        "colab": {
          "base_uri": "https://localhost:8080/"
        },
        "id": "B_z_C1qXwU3K",
        "outputId": "0ce039d5-f22c-450b-a21b-b1eaa595d833"
      },
      "outputs": [
        {
          "output_type": "stream",
          "name": "stdout",
          "text": [
            "<class 'pandas.core.frame.DataFrame'>\n",
            "Int64Index: 5466 entries, 0 to 5465\n",
            "Data columns (total 12 columns):\n",
            " #   Column              Non-Null Count  Dtype  \n",
            "---  ------              --------------  -----  \n",
            " 0   msno                5466 non-null   object \n",
            " 1   song_id             5466 non-null   object \n",
            " 2   source_system_tab   5456 non-null   object \n",
            " 3   source_screen_name  5244 non-null   object \n",
            " 4   source_type         5463 non-null   object \n",
            " 5   target              5466 non-null   float64\n",
            " 6   song_length         1498 non-null   float64\n",
            " 7   genre_ids           1479 non-null   object \n",
            " 8   artist_name         1498 non-null   object \n",
            " 9   composer            1180 non-null   object \n",
            " 10  lyricist            920 non-null    object \n",
            " 11  language            1498 non-null   float64\n",
            "dtypes: float64(3), object(9)\n",
            "memory usage: 555.1+ KB\n"
          ]
        }
      ],
      "source": [
        "df.info()"
      ]
    },
    {
      "cell_type": "code",
      "execution_count": 11,
      "metadata": {
        "execution": {
          "iopub.execute_input": "2022-03-15T15:51:12.521338Z",
          "iopub.status.busy": "2022-03-15T15:51:12.521119Z",
          "iopub.status.idle": "2022-03-15T15:51:12.567700Z",
          "shell.execute_reply": "2022-03-15T15:51:12.566850Z",
          "shell.execute_reply.started": "2022-03-15T15:51:12.521312Z"
        },
        "trusted": true,
        "id": "CbpeGp1EwU3K"
      },
      "outputs": [],
      "source": [
        "members = pd.read_csv('/content/members.csv')"
      ]
    },
    {
      "cell_type": "code",
      "execution_count": 12,
      "metadata": {
        "execution": {
          "iopub.execute_input": "2022-03-15T15:51:12.569520Z",
          "iopub.status.busy": "2022-03-15T15:51:12.569097Z",
          "iopub.status.idle": "2022-03-15T15:51:13.059549Z",
          "shell.execute_reply": "2022-03-15T15:51:13.058610Z",
          "shell.execute_reply.started": "2022-03-15T15:51:12.569487Z"
        },
        "trusted": true,
        "id": "xYI08KsdwU3L"
      },
      "outputs": [],
      "source": [
        "df = pd.merge(df, members, on='msno', how='left')\n",
        "del members"
      ]
    },
    {
      "cell_type": "code",
      "execution_count": 13,
      "metadata": {
        "execution": {
          "iopub.execute_input": "2022-03-15T15:51:13.061046Z",
          "iopub.status.busy": "2022-03-15T15:51:13.060711Z",
          "iopub.status.idle": "2022-03-15T15:51:13.588733Z",
          "shell.execute_reply": "2022-03-15T15:51:13.587995Z",
          "shell.execute_reply.started": "2022-03-15T15:51:13.061010Z"
        },
        "trusted": true,
        "colab": {
          "base_uri": "https://localhost:8080/"
        },
        "id": "k5c7lDu6wU3L",
        "outputId": "14abfdab-ff4c-4195-d64f-24c3e4ed8725"
      },
      "outputs": [
        {
          "output_type": "stream",
          "name": "stdout",
          "text": [
            "<class 'pandas.core.frame.DataFrame'>\n",
            "Int64Index: 5466 entries, 0 to 5465\n",
            "Data columns (total 18 columns):\n",
            " #   Column                  Non-Null Count  Dtype  \n",
            "---  ------                  --------------  -----  \n",
            " 0   msno                    5466 non-null   object \n",
            " 1   song_id                 5466 non-null   object \n",
            " 2   source_system_tab       5456 non-null   object \n",
            " 3   source_screen_name      5244 non-null   object \n",
            " 4   source_type             5463 non-null   object \n",
            " 5   target                  5466 non-null   float64\n",
            " 6   song_length             1498 non-null   float64\n",
            " 7   genre_ids               1479 non-null   object \n",
            " 8   artist_name             1498 non-null   object \n",
            " 9   composer                1180 non-null   object \n",
            " 10  lyricist                920 non-null    object \n",
            " 11  language                1498 non-null   float64\n",
            " 12  city                    5466 non-null   int64  \n",
            " 13  bd                      5466 non-null   int64  \n",
            " 14  gender                  3362 non-null   object \n",
            " 15  registered_via          5466 non-null   int64  \n",
            " 16  registration_init_time  5466 non-null   int64  \n",
            " 17  expiration_date         5466 non-null   int64  \n",
            "dtypes: float64(3), int64(5), object(10)\n",
            "memory usage: 811.4+ KB\n"
          ]
        }
      ],
      "source": [
        "df.info()"
      ]
    },
    {
      "cell_type": "markdown",
      "metadata": {
        "id": "qWvd2WkswU3L"
      },
      "source": [
        "##### Replace NA"
      ]
    },
    {
      "cell_type": "code",
      "execution_count": 14,
      "metadata": {
        "execution": {
          "iopub.execute_input": "2022-03-15T15:51:13.590057Z",
          "iopub.status.busy": "2022-03-15T15:51:13.589849Z",
          "iopub.status.idle": "2022-03-15T15:51:15.468297Z",
          "shell.execute_reply": "2022-03-15T15:51:15.467581Z",
          "shell.execute_reply.started": "2022-03-15T15:51:13.590032Z"
        },
        "trusted": true,
        "colab": {
          "base_uri": "https://localhost:8080/"
        },
        "id": "hWhePc5swU3L",
        "outputId": "b3aa2274-8335-47d7-e14d-892684c344d4"
      },
      "outputs": [
        {
          "output_type": "stream",
          "name": "stderr",
          "text": [
            "/usr/local/lib/python3.7/dist-packages/ipykernel_launcher.py:3: SettingWithCopyWarning: \n",
            "A value is trying to be set on a copy of a slice from a DataFrame\n",
            "\n",
            "See the caveats in the documentation: https://pandas.pydata.org/pandas-docs/stable/user_guide/indexing.html#returning-a-view-versus-a-copy\n",
            "  This is separate from the ipykernel package so we can avoid doing imports until\n"
          ]
        }
      ],
      "source": [
        "# Replace NA\n",
        "for i in df.select_dtypes(include=['object']).columns:\n",
        "    df[i][df[i].isnull()] = 'unknown'\n",
        "df = df.fillna(value=0)"
      ]
    },
    {
      "cell_type": "code",
      "execution_count": 15,
      "metadata": {
        "execution": {
          "iopub.execute_input": "2022-03-15T15:51:15.469971Z",
          "iopub.status.busy": "2022-03-15T15:51:15.469728Z",
          "iopub.status.idle": "2022-03-15T15:51:16.002788Z",
          "shell.execute_reply": "2022-03-15T15:51:16.001893Z",
          "shell.execute_reply.started": "2022-03-15T15:51:15.469942Z"
        },
        "trusted": true,
        "colab": {
          "base_uri": "https://localhost:8080/"
        },
        "id": "C4zlPzzpwU3M",
        "outputId": "b2917678-25d3-4335-d39f-c58c1f2cca69"
      },
      "outputs": [
        {
          "output_type": "stream",
          "name": "stdout",
          "text": [
            "<class 'pandas.core.frame.DataFrame'>\n",
            "Int64Index: 5466 entries, 0 to 5465\n",
            "Data columns (total 18 columns):\n",
            " #   Column                  Non-Null Count  Dtype  \n",
            "---  ------                  --------------  -----  \n",
            " 0   msno                    5466 non-null   object \n",
            " 1   song_id                 5466 non-null   object \n",
            " 2   source_system_tab       5466 non-null   object \n",
            " 3   source_screen_name      5466 non-null   object \n",
            " 4   source_type             5466 non-null   object \n",
            " 5   target                  5466 non-null   float64\n",
            " 6   song_length             5466 non-null   float64\n",
            " 7   genre_ids               5466 non-null   object \n",
            " 8   artist_name             5466 non-null   object \n",
            " 9   composer                5466 non-null   object \n",
            " 10  lyricist                5466 non-null   object \n",
            " 11  language                5466 non-null   float64\n",
            " 12  city                    5466 non-null   int64  \n",
            " 13  bd                      5466 non-null   int64  \n",
            " 14  gender                  5466 non-null   object \n",
            " 15  registered_via          5466 non-null   int64  \n",
            " 16  registration_init_time  5466 non-null   int64  \n",
            " 17  expiration_date         5466 non-null   int64  \n",
            "dtypes: float64(3), int64(5), object(10)\n",
            "memory usage: 811.4+ KB\n"
          ]
        }
      ],
      "source": [
        "df.info()"
      ]
    },
    {
      "cell_type": "markdown",
      "metadata": {
        "id": "SOsPLq_XwU3M"
      },
      "source": [
        "##### Create Dates"
      ]
    },
    {
      "cell_type": "code",
      "execution_count": 16,
      "metadata": {
        "execution": {
          "iopub.execute_input": "2022-03-15T15:51:16.004686Z",
          "iopub.status.busy": "2022-03-15T15:51:16.004237Z",
          "iopub.status.idle": "2022-03-15T15:51:16.982286Z",
          "shell.execute_reply": "2022-03-15T15:51:16.981568Z",
          "shell.execute_reply.started": "2022-03-15T15:51:16.004636Z"
        },
        "trusted": true,
        "id": "9OxvUGZtwU3M"
      },
      "outputs": [],
      "source": [
        "# Create Dates\n",
        "\n",
        "# registration_init_time\n",
        "df.registration_init_time = pd.to_datetime(df.registration_init_time, format='%Y%m%d', errors='ignore')\n",
        "df['registration_init_time_year'] = df['registration_init_time'].dt.year\n",
        "df['registration_init_time_month'] = df['registration_init_time'].dt.month\n",
        "df['registration_init_time_day'] = df['registration_init_time'].dt.day\n",
        "\n",
        "# expiration_date\n",
        "df.expiration_date = pd.to_datetime(df.expiration_date,  format='%Y%m%d', errors='ignore')\n",
        "df['expiration_date_year'] = df['expiration_date'].dt.year\n",
        "df['expiration_date_month'] = df['expiration_date'].dt.month\n",
        "df['expiration_date_day'] = df['expiration_date'].dt.day"
      ]
    },
    {
      "cell_type": "code",
      "execution_count": 17,
      "metadata": {
        "execution": {
          "iopub.execute_input": "2022-03-15T15:51:16.984251Z",
          "iopub.status.busy": "2022-03-15T15:51:16.983779Z",
          "iopub.status.idle": "2022-03-15T15:51:17.010042Z",
          "shell.execute_reply": "2022-03-15T15:51:17.009373Z",
          "shell.execute_reply.started": "2022-03-15T15:51:16.984210Z"
        },
        "trusted": true,
        "id": "Q_zhFl3swU3N"
      },
      "outputs": [],
      "source": [
        "#Dates to categoty\n",
        "df['registration_init_time'] = df['registration_init_time'].astype('category')\n",
        "df['expiration_date'] = df['expiration_date'].astype('category')"
      ]
    },
    {
      "cell_type": "code",
      "execution_count": 18,
      "metadata": {
        "execution": {
          "iopub.execute_input": "2022-03-15T15:51:17.011625Z",
          "iopub.status.busy": "2022-03-15T15:51:17.011020Z",
          "iopub.status.idle": "2022-03-15T15:51:19.931921Z",
          "shell.execute_reply": "2022-03-15T15:51:19.931043Z",
          "shell.execute_reply.started": "2022-03-15T15:51:17.011591Z"
        },
        "trusted": true,
        "id": "2Qrc5WStwU3N"
      },
      "outputs": [],
      "source": [
        "# Object data to category\n",
        "for col in df.select_dtypes(include=['object']).columns:\n",
        "    df[col] = df[col].astype('category')\n",
        "    \n",
        "# Encoding categorical features\n",
        "for col in df.select_dtypes(include=['category']).columns:\n",
        "    df[col] = df[col].cat.codes"
      ]
    },
    {
      "cell_type": "code",
      "execution_count": 19,
      "metadata": {
        "execution": {
          "iopub.execute_input": "2022-03-15T15:51:19.933339Z",
          "iopub.status.busy": "2022-03-15T15:51:19.933090Z",
          "iopub.status.idle": "2022-03-15T15:51:21.212510Z",
          "shell.execute_reply": "2022-03-15T15:51:21.211740Z",
          "shell.execute_reply.started": "2022-03-15T15:51:19.933310Z"
        },
        "trusted": true,
        "colab": {
          "base_uri": "https://localhost:8080/",
          "height": 895
        },
        "id": "pQXnhfHvwU3N",
        "outputId": "7e907b91-8af2-4a3f-efef-def3926a6c4f"
      },
      "outputs": [
        {
          "output_type": "execute_result",
          "data": {
            "text/plain": [
              "                                  msno   song_id  source_system_tab  \\\n",
              "msno                          1.000000 -0.011744          -0.007057   \n",
              "song_id                      -0.011744  1.000000           0.007691   \n",
              "source_system_tab            -0.007057  0.007691           1.000000   \n",
              "source_screen_name            0.005528 -0.006459          -0.032066   \n",
              "source_type                  -0.025442  0.004273          -0.206214   \n",
              "target                       -0.008539 -0.017220           0.099679   \n",
              "song_length                   0.016159  0.034185           0.008854   \n",
              "genre_ids                    -0.009716 -0.019527          -0.002849   \n",
              "artist_name                   0.013774  0.014526          -0.000999   \n",
              "composer                      0.023858 -0.019333           0.005080   \n",
              "lyricist                      0.034635 -0.011470          -0.000699   \n",
              "language                     -0.005830  0.005274          -0.013209   \n",
              "city                          0.027582  0.001765           0.031304   \n",
              "bd                           -0.020243 -0.000931          -0.013928   \n",
              "gender                       -0.013604 -0.002493          -0.007581   \n",
              "registered_via                0.021340 -0.014185           0.019936   \n",
              "registration_init_time       -0.024426  0.000422          -0.025072   \n",
              "expiration_date              -0.011551  0.001374           0.059589   \n",
              "registration_init_time_year  -0.034653 -0.000211          -0.011040   \n",
              "registration_init_time_month  0.022321 -0.002043          -0.054755   \n",
              "registration_init_time_day   -0.004884  0.021433           0.028283   \n",
              "expiration_date_year         -0.013155  0.004227           0.042075   \n",
              "expiration_date_month         0.004801 -0.006155           0.009171   \n",
              "expiration_date_day           0.012901  0.008322           0.045959   \n",
              "\n",
              "                              source_screen_name  source_type    target  \\\n",
              "msno                                    0.005528    -0.025442 -0.008539   \n",
              "song_id                                -0.006459     0.004273 -0.017220   \n",
              "source_system_tab                      -0.032066    -0.206214  0.099679   \n",
              "source_screen_name                      1.000000     0.325509 -0.137878   \n",
              "source_type                             0.325509     1.000000 -0.161470   \n",
              "target                                 -0.137878    -0.161470  1.000000   \n",
              "song_length                             0.017293     0.026973  0.013615   \n",
              "genre_ids                              -0.011999    -0.024978 -0.014728   \n",
              "artist_name                             0.033677     0.027323 -0.001936   \n",
              "composer                                0.012883    -0.011761  0.003530   \n",
              "lyricist                                0.024310     0.004172 -0.006975   \n",
              "language                                0.007838     0.013799 -0.000129   \n",
              "city                                   -0.006571    -0.015922  0.011603   \n",
              "bd                                     -0.013450     0.040150 -0.002901   \n",
              "gender                                  0.011713    -0.013921 -0.003590   \n",
              "registered_via                          0.002045     0.011389 -0.004645   \n",
              "registration_init_time                  0.016131    -0.024798  0.010043   \n",
              "expiration_date                        -0.052625    -0.028066  0.079767   \n",
              "registration_init_time_year             0.014307    -0.033527  0.009232   \n",
              "registration_init_time_month            0.001298     0.006969  0.009051   \n",
              "registration_init_time_day              0.004994    -0.025737  0.017096   \n",
              "expiration_date_year                   -0.041146    -0.035410  0.050577   \n",
              "expiration_date_month                  -0.007362     0.022142  0.021682   \n",
              "expiration_date_day                     0.022740    -0.032341  0.016497   \n",
              "\n",
              "                              song_length  genre_ids  artist_name  composer  \\\n",
              "msno                             0.016159  -0.009716     0.013774  0.023858   \n",
              "song_id                          0.034185  -0.019527     0.014526 -0.019333   \n",
              "source_system_tab                0.008854  -0.002849    -0.000999  0.005080   \n",
              "source_screen_name               0.017293  -0.011999     0.033677  0.012883   \n",
              "source_type                      0.026973  -0.024978     0.027323 -0.011761   \n",
              "target                           0.013615  -0.014728    -0.001936  0.003530   \n",
              "song_length                      1.000000  -0.897671     0.108202 -0.043952   \n",
              "genre_ids                       -0.897671   1.000000     0.011031  0.145166   \n",
              "artist_name                      0.108202   0.011031     1.000000  0.358209   \n",
              "composer                        -0.043952   0.145166     0.358209  1.000000   \n",
              "lyricist                         0.336323  -0.227913     0.337761  0.696529   \n",
              "language                         0.516004  -0.638964    -0.451465 -0.385955   \n",
              "city                             0.002556  -0.007878     0.005145 -0.000274   \n",
              "bd                               0.002919   0.006259     0.024392  0.012462   \n",
              "gender                          -0.005847   0.003297     0.002919 -0.002399   \n",
              "registered_via                   0.024693  -0.024291     0.007082 -0.007825   \n",
              "registration_init_time           0.003881   0.003765     0.002783 -0.001164   \n",
              "expiration_date                  0.018109  -0.015685     0.027319 -0.014335   \n",
              "registration_init_time_year      0.002101   0.004204     0.003941 -0.005525   \n",
              "registration_init_time_month     0.004412  -0.003141    -0.003315  0.024249   \n",
              "registration_init_time_day      -0.006700   0.013886    -0.016767  0.004699   \n",
              "expiration_date_year             0.015346  -0.020184     0.016038 -0.015304   \n",
              "expiration_date_month           -0.003374   0.015091     0.011490  0.005477   \n",
              "expiration_date_day              0.004935  -0.003383    -0.014695  0.013467   \n",
              "\n",
              "                              ...    gender  registered_via  \\\n",
              "msno                          ... -0.013604        0.021340   \n",
              "song_id                       ... -0.002493       -0.014185   \n",
              "source_system_tab             ... -0.007581        0.019936   \n",
              "source_screen_name            ...  0.011713        0.002045   \n",
              "source_type                   ... -0.013921        0.011389   \n",
              "target                        ... -0.003590       -0.004645   \n",
              "song_length                   ... -0.005847        0.024693   \n",
              "genre_ids                     ...  0.003297       -0.024291   \n",
              "artist_name                   ...  0.002919        0.007082   \n",
              "composer                      ... -0.002399       -0.007825   \n",
              "lyricist                      ... -0.002819       -0.005646   \n",
              "language                      ... -0.012683        0.015262   \n",
              "city                          ... -0.522358        0.036877   \n",
              "bd                            ... -0.732806        0.112933   \n",
              "gender                        ...  1.000000       -0.088816   \n",
              "registered_via                ... -0.088816        1.000000   \n",
              "registration_init_time        ...  0.350091       -0.391285   \n",
              "expiration_date               ... -0.151343        0.103677   \n",
              "registration_init_time_year   ...  0.351697       -0.415392   \n",
              "registration_init_time_month  ...  0.038373       -0.009325   \n",
              "registration_init_time_day    ...  0.031684       -0.023966   \n",
              "expiration_date_year          ... -0.152599        0.100924   \n",
              "expiration_date_month         ...  0.070689       -0.030183   \n",
              "expiration_date_day           ... -0.013651        0.054717   \n",
              "\n",
              "                              registration_init_time  expiration_date  \\\n",
              "msno                                       -0.024426        -0.011551   \n",
              "song_id                                     0.000422         0.001374   \n",
              "source_system_tab                          -0.025072         0.059589   \n",
              "source_screen_name                          0.016131        -0.052625   \n",
              "source_type                                -0.024798        -0.028066   \n",
              "target                                      0.010043         0.079767   \n",
              "song_length                                 0.003881         0.018109   \n",
              "genre_ids                                   0.003765        -0.015685   \n",
              "artist_name                                 0.002783         0.027319   \n",
              "composer                                   -0.001164        -0.014335   \n",
              "lyricist                                    0.005325        -0.006530   \n",
              "language                                   -0.011064         0.015081   \n",
              "city                                       -0.287922         0.188116   \n",
              "bd                                         -0.418303         0.180714   \n",
              "gender                                      0.350091        -0.151343   \n",
              "registered_via                             -0.391285         0.103677   \n",
              "registration_init_time                      1.000000        -0.128359   \n",
              "expiration_date                            -0.128359         1.000000   \n",
              "registration_init_time_year                 0.961249        -0.113042   \n",
              "registration_init_time_month                0.076475        -0.064167   \n",
              "registration_init_time_day                  0.039165        -0.064349   \n",
              "expiration_date_year                       -0.115871         0.836289   \n",
              "expiration_date_month                       0.033024        -0.082927   \n",
              "expiration_date_day                        -0.053265         0.051686   \n",
              "\n",
              "                              registration_init_time_year  \\\n",
              "msno                                            -0.034653   \n",
              "song_id                                         -0.000211   \n",
              "source_system_tab                               -0.011040   \n",
              "source_screen_name                               0.014307   \n",
              "source_type                                     -0.033527   \n",
              "target                                           0.009232   \n",
              "song_length                                      0.002101   \n",
              "genre_ids                                        0.004204   \n",
              "artist_name                                      0.003941   \n",
              "composer                                        -0.005525   \n",
              "lyricist                                         0.002840   \n",
              "language                                        -0.011225   \n",
              "city                                            -0.278953   \n",
              "bd                                              -0.415794   \n",
              "gender                                           0.351697   \n",
              "registered_via                                  -0.415392   \n",
              "registration_init_time                           0.961249   \n",
              "expiration_date                                 -0.113042   \n",
              "registration_init_time_year                      1.000000   \n",
              "registration_init_time_month                    -0.042496   \n",
              "registration_init_time_day                       0.008144   \n",
              "expiration_date_year                            -0.100267   \n",
              "expiration_date_month                            0.028558   \n",
              "expiration_date_day                             -0.055631   \n",
              "\n",
              "                              registration_init_time_month  \\\n",
              "msno                                              0.022321   \n",
              "song_id                                          -0.002043   \n",
              "source_system_tab                                -0.054755   \n",
              "source_screen_name                                0.001298   \n",
              "source_type                                       0.006969   \n",
              "target                                            0.009051   \n",
              "song_length                                       0.004412   \n",
              "genre_ids                                        -0.003141   \n",
              "artist_name                                      -0.003315   \n",
              "composer                                          0.024249   \n",
              "lyricist                                          0.018636   \n",
              "language                                          0.002996   \n",
              "city                                             -0.072545   \n",
              "bd                                               -0.034733   \n",
              "gender                                            0.038373   \n",
              "registered_via                                   -0.009325   \n",
              "registration_init_time                            0.076475   \n",
              "expiration_date                                  -0.064167   \n",
              "registration_init_time_year                      -0.042496   \n",
              "registration_init_time_month                      1.000000   \n",
              "registration_init_time_day                        0.056090   \n",
              "expiration_date_year                             -0.044256   \n",
              "expiration_date_month                            -0.002998   \n",
              "expiration_date_day                              -0.043209   \n",
              "\n",
              "                              registration_init_time_day  \\\n",
              "msno                                           -0.004884   \n",
              "song_id                                         0.021433   \n",
              "source_system_tab                               0.028283   \n",
              "source_screen_name                              0.004994   \n",
              "source_type                                    -0.025737   \n",
              "target                                          0.017096   \n",
              "song_length                                    -0.006700   \n",
              "genre_ids                                       0.013886   \n",
              "artist_name                                    -0.016767   \n",
              "composer                                        0.004699   \n",
              "lyricist                                        0.010955   \n",
              "language                                        0.017408   \n",
              "city                                           -0.047508   \n",
              "bd                                             -0.032827   \n",
              "gender                                          0.031684   \n",
              "registered_via                                 -0.023966   \n",
              "registration_init_time                          0.039165   \n",
              "expiration_date                                -0.064349   \n",
              "registration_init_time_year                     0.008144   \n",
              "registration_init_time_month                    0.056090   \n",
              "registration_init_time_day                      1.000000   \n",
              "expiration_date_year                           -0.062606   \n",
              "expiration_date_month                           0.009049   \n",
              "expiration_date_day                             0.113400   \n",
              "\n",
              "                              expiration_date_year  expiration_date_month  \\\n",
              "msno                                     -0.013155               0.004801   \n",
              "song_id                                   0.004227              -0.006155   \n",
              "source_system_tab                         0.042075               0.009171   \n",
              "source_screen_name                       -0.041146              -0.007362   \n",
              "source_type                              -0.035410               0.022142   \n",
              "target                                    0.050577               0.021682   \n",
              "song_length                               0.015346              -0.003374   \n",
              "genre_ids                                -0.020184               0.015091   \n",
              "artist_name                               0.016038               0.011490   \n",
              "composer                                 -0.015304               0.005477   \n",
              "lyricist                                 -0.005534               0.003173   \n",
              "language                                  0.024878              -0.018301   \n",
              "city                                      0.173168              -0.048384   \n",
              "bd                                        0.158511              -0.047220   \n",
              "gender                                   -0.152599               0.070689   \n",
              "registered_via                            0.100924              -0.030183   \n",
              "registration_init_time                   -0.115871               0.033024   \n",
              "expiration_date                           0.836289              -0.082927   \n",
              "registration_init_time_year              -0.100267               0.028558   \n",
              "registration_init_time_month             -0.044256              -0.002998   \n",
              "registration_init_time_day               -0.062606               0.009049   \n",
              "expiration_date_year                      1.000000              -0.597326   \n",
              "expiration_date_month                    -0.597326               1.000000   \n",
              "expiration_date_day                      -0.017354              -0.032148   \n",
              "\n",
              "                              expiration_date_day  \n",
              "msno                                     0.012901  \n",
              "song_id                                  0.008322  \n",
              "source_system_tab                        0.045959  \n",
              "source_screen_name                       0.022740  \n",
              "source_type                             -0.032341  \n",
              "target                                   0.016497  \n",
              "song_length                              0.004935  \n",
              "genre_ids                               -0.003383  \n",
              "artist_name                             -0.014695  \n",
              "composer                                 0.013467  \n",
              "lyricist                                 0.000507  \n",
              "language                                 0.004107  \n",
              "city                                     0.022194  \n",
              "bd                                       0.046362  \n",
              "gender                                  -0.013651  \n",
              "registered_via                           0.054717  \n",
              "registration_init_time                  -0.053265  \n",
              "expiration_date                          0.051686  \n",
              "registration_init_time_year             -0.055631  \n",
              "registration_init_time_month            -0.043209  \n",
              "registration_init_time_day               0.113400  \n",
              "expiration_date_year                    -0.017354  \n",
              "expiration_date_month                   -0.032148  \n",
              "expiration_date_day                      1.000000  \n",
              "\n",
              "[24 rows x 24 columns]"
            ],
            "text/html": [
              "\n",
              "  <div id=\"df-c0c8696d-57a9-4d1b-a05a-d8b6246655b7\">\n",
              "    <div class=\"colab-df-container\">\n",
              "      <div>\n",
              "<style scoped>\n",
              "    .dataframe tbody tr th:only-of-type {\n",
              "        vertical-align: middle;\n",
              "    }\n",
              "\n",
              "    .dataframe tbody tr th {\n",
              "        vertical-align: top;\n",
              "    }\n",
              "\n",
              "    .dataframe thead th {\n",
              "        text-align: right;\n",
              "    }\n",
              "</style>\n",
              "<table border=\"1\" class=\"dataframe\">\n",
              "  <thead>\n",
              "    <tr style=\"text-align: right;\">\n",
              "      <th></th>\n",
              "      <th>msno</th>\n",
              "      <th>song_id</th>\n",
              "      <th>source_system_tab</th>\n",
              "      <th>source_screen_name</th>\n",
              "      <th>source_type</th>\n",
              "      <th>target</th>\n",
              "      <th>song_length</th>\n",
              "      <th>genre_ids</th>\n",
              "      <th>artist_name</th>\n",
              "      <th>composer</th>\n",
              "      <th>...</th>\n",
              "      <th>gender</th>\n",
              "      <th>registered_via</th>\n",
              "      <th>registration_init_time</th>\n",
              "      <th>expiration_date</th>\n",
              "      <th>registration_init_time_year</th>\n",
              "      <th>registration_init_time_month</th>\n",
              "      <th>registration_init_time_day</th>\n",
              "      <th>expiration_date_year</th>\n",
              "      <th>expiration_date_month</th>\n",
              "      <th>expiration_date_day</th>\n",
              "    </tr>\n",
              "  </thead>\n",
              "  <tbody>\n",
              "    <tr>\n",
              "      <th>msno</th>\n",
              "      <td>1.000000</td>\n",
              "      <td>-0.011744</td>\n",
              "      <td>-0.007057</td>\n",
              "      <td>0.005528</td>\n",
              "      <td>-0.025442</td>\n",
              "      <td>-0.008539</td>\n",
              "      <td>0.016159</td>\n",
              "      <td>-0.009716</td>\n",
              "      <td>0.013774</td>\n",
              "      <td>0.023858</td>\n",
              "      <td>...</td>\n",
              "      <td>-0.013604</td>\n",
              "      <td>0.021340</td>\n",
              "      <td>-0.024426</td>\n",
              "      <td>-0.011551</td>\n",
              "      <td>-0.034653</td>\n",
              "      <td>0.022321</td>\n",
              "      <td>-0.004884</td>\n",
              "      <td>-0.013155</td>\n",
              "      <td>0.004801</td>\n",
              "      <td>0.012901</td>\n",
              "    </tr>\n",
              "    <tr>\n",
              "      <th>song_id</th>\n",
              "      <td>-0.011744</td>\n",
              "      <td>1.000000</td>\n",
              "      <td>0.007691</td>\n",
              "      <td>-0.006459</td>\n",
              "      <td>0.004273</td>\n",
              "      <td>-0.017220</td>\n",
              "      <td>0.034185</td>\n",
              "      <td>-0.019527</td>\n",
              "      <td>0.014526</td>\n",
              "      <td>-0.019333</td>\n",
              "      <td>...</td>\n",
              "      <td>-0.002493</td>\n",
              "      <td>-0.014185</td>\n",
              "      <td>0.000422</td>\n",
              "      <td>0.001374</td>\n",
              "      <td>-0.000211</td>\n",
              "      <td>-0.002043</td>\n",
              "      <td>0.021433</td>\n",
              "      <td>0.004227</td>\n",
              "      <td>-0.006155</td>\n",
              "      <td>0.008322</td>\n",
              "    </tr>\n",
              "    <tr>\n",
              "      <th>source_system_tab</th>\n",
              "      <td>-0.007057</td>\n",
              "      <td>0.007691</td>\n",
              "      <td>1.000000</td>\n",
              "      <td>-0.032066</td>\n",
              "      <td>-0.206214</td>\n",
              "      <td>0.099679</td>\n",
              "      <td>0.008854</td>\n",
              "      <td>-0.002849</td>\n",
              "      <td>-0.000999</td>\n",
              "      <td>0.005080</td>\n",
              "      <td>...</td>\n",
              "      <td>-0.007581</td>\n",
              "      <td>0.019936</td>\n",
              "      <td>-0.025072</td>\n",
              "      <td>0.059589</td>\n",
              "      <td>-0.011040</td>\n",
              "      <td>-0.054755</td>\n",
              "      <td>0.028283</td>\n",
              "      <td>0.042075</td>\n",
              "      <td>0.009171</td>\n",
              "      <td>0.045959</td>\n",
              "    </tr>\n",
              "    <tr>\n",
              "      <th>source_screen_name</th>\n",
              "      <td>0.005528</td>\n",
              "      <td>-0.006459</td>\n",
              "      <td>-0.032066</td>\n",
              "      <td>1.000000</td>\n",
              "      <td>0.325509</td>\n",
              "      <td>-0.137878</td>\n",
              "      <td>0.017293</td>\n",
              "      <td>-0.011999</td>\n",
              "      <td>0.033677</td>\n",
              "      <td>0.012883</td>\n",
              "      <td>...</td>\n",
              "      <td>0.011713</td>\n",
              "      <td>0.002045</td>\n",
              "      <td>0.016131</td>\n",
              "      <td>-0.052625</td>\n",
              "      <td>0.014307</td>\n",
              "      <td>0.001298</td>\n",
              "      <td>0.004994</td>\n",
              "      <td>-0.041146</td>\n",
              "      <td>-0.007362</td>\n",
              "      <td>0.022740</td>\n",
              "    </tr>\n",
              "    <tr>\n",
              "      <th>source_type</th>\n",
              "      <td>-0.025442</td>\n",
              "      <td>0.004273</td>\n",
              "      <td>-0.206214</td>\n",
              "      <td>0.325509</td>\n",
              "      <td>1.000000</td>\n",
              "      <td>-0.161470</td>\n",
              "      <td>0.026973</td>\n",
              "      <td>-0.024978</td>\n",
              "      <td>0.027323</td>\n",
              "      <td>-0.011761</td>\n",
              "      <td>...</td>\n",
              "      <td>-0.013921</td>\n",
              "      <td>0.011389</td>\n",
              "      <td>-0.024798</td>\n",
              "      <td>-0.028066</td>\n",
              "      <td>-0.033527</td>\n",
              "      <td>0.006969</td>\n",
              "      <td>-0.025737</td>\n",
              "      <td>-0.035410</td>\n",
              "      <td>0.022142</td>\n",
              "      <td>-0.032341</td>\n",
              "    </tr>\n",
              "    <tr>\n",
              "      <th>target</th>\n",
              "      <td>-0.008539</td>\n",
              "      <td>-0.017220</td>\n",
              "      <td>0.099679</td>\n",
              "      <td>-0.137878</td>\n",
              "      <td>-0.161470</td>\n",
              "      <td>1.000000</td>\n",
              "      <td>0.013615</td>\n",
              "      <td>-0.014728</td>\n",
              "      <td>-0.001936</td>\n",
              "      <td>0.003530</td>\n",
              "      <td>...</td>\n",
              "      <td>-0.003590</td>\n",
              "      <td>-0.004645</td>\n",
              "      <td>0.010043</td>\n",
              "      <td>0.079767</td>\n",
              "      <td>0.009232</td>\n",
              "      <td>0.009051</td>\n",
              "      <td>0.017096</td>\n",
              "      <td>0.050577</td>\n",
              "      <td>0.021682</td>\n",
              "      <td>0.016497</td>\n",
              "    </tr>\n",
              "    <tr>\n",
              "      <th>song_length</th>\n",
              "      <td>0.016159</td>\n",
              "      <td>0.034185</td>\n",
              "      <td>0.008854</td>\n",
              "      <td>0.017293</td>\n",
              "      <td>0.026973</td>\n",
              "      <td>0.013615</td>\n",
              "      <td>1.000000</td>\n",
              "      <td>-0.897671</td>\n",
              "      <td>0.108202</td>\n",
              "      <td>-0.043952</td>\n",
              "      <td>...</td>\n",
              "      <td>-0.005847</td>\n",
              "      <td>0.024693</td>\n",
              "      <td>0.003881</td>\n",
              "      <td>0.018109</td>\n",
              "      <td>0.002101</td>\n",
              "      <td>0.004412</td>\n",
              "      <td>-0.006700</td>\n",
              "      <td>0.015346</td>\n",
              "      <td>-0.003374</td>\n",
              "      <td>0.004935</td>\n",
              "    </tr>\n",
              "    <tr>\n",
              "      <th>genre_ids</th>\n",
              "      <td>-0.009716</td>\n",
              "      <td>-0.019527</td>\n",
              "      <td>-0.002849</td>\n",
              "      <td>-0.011999</td>\n",
              "      <td>-0.024978</td>\n",
              "      <td>-0.014728</td>\n",
              "      <td>-0.897671</td>\n",
              "      <td>1.000000</td>\n",
              "      <td>0.011031</td>\n",
              "      <td>0.145166</td>\n",
              "      <td>...</td>\n",
              "      <td>0.003297</td>\n",
              "      <td>-0.024291</td>\n",
              "      <td>0.003765</td>\n",
              "      <td>-0.015685</td>\n",
              "      <td>0.004204</td>\n",
              "      <td>-0.003141</td>\n",
              "      <td>0.013886</td>\n",
              "      <td>-0.020184</td>\n",
              "      <td>0.015091</td>\n",
              "      <td>-0.003383</td>\n",
              "    </tr>\n",
              "    <tr>\n",
              "      <th>artist_name</th>\n",
              "      <td>0.013774</td>\n",
              "      <td>0.014526</td>\n",
              "      <td>-0.000999</td>\n",
              "      <td>0.033677</td>\n",
              "      <td>0.027323</td>\n",
              "      <td>-0.001936</td>\n",
              "      <td>0.108202</td>\n",
              "      <td>0.011031</td>\n",
              "      <td>1.000000</td>\n",
              "      <td>0.358209</td>\n",
              "      <td>...</td>\n",
              "      <td>0.002919</td>\n",
              "      <td>0.007082</td>\n",
              "      <td>0.002783</td>\n",
              "      <td>0.027319</td>\n",
              "      <td>0.003941</td>\n",
              "      <td>-0.003315</td>\n",
              "      <td>-0.016767</td>\n",
              "      <td>0.016038</td>\n",
              "      <td>0.011490</td>\n",
              "      <td>-0.014695</td>\n",
              "    </tr>\n",
              "    <tr>\n",
              "      <th>composer</th>\n",
              "      <td>0.023858</td>\n",
              "      <td>-0.019333</td>\n",
              "      <td>0.005080</td>\n",
              "      <td>0.012883</td>\n",
              "      <td>-0.011761</td>\n",
              "      <td>0.003530</td>\n",
              "      <td>-0.043952</td>\n",
              "      <td>0.145166</td>\n",
              "      <td>0.358209</td>\n",
              "      <td>1.000000</td>\n",
              "      <td>...</td>\n",
              "      <td>-0.002399</td>\n",
              "      <td>-0.007825</td>\n",
              "      <td>-0.001164</td>\n",
              "      <td>-0.014335</td>\n",
              "      <td>-0.005525</td>\n",
              "      <td>0.024249</td>\n",
              "      <td>0.004699</td>\n",
              "      <td>-0.015304</td>\n",
              "      <td>0.005477</td>\n",
              "      <td>0.013467</td>\n",
              "    </tr>\n",
              "    <tr>\n",
              "      <th>lyricist</th>\n",
              "      <td>0.034635</td>\n",
              "      <td>-0.011470</td>\n",
              "      <td>-0.000699</td>\n",
              "      <td>0.024310</td>\n",
              "      <td>0.004172</td>\n",
              "      <td>-0.006975</td>\n",
              "      <td>0.336323</td>\n",
              "      <td>-0.227913</td>\n",
              "      <td>0.337761</td>\n",
              "      <td>0.696529</td>\n",
              "      <td>...</td>\n",
              "      <td>-0.002819</td>\n",
              "      <td>-0.005646</td>\n",
              "      <td>0.005325</td>\n",
              "      <td>-0.006530</td>\n",
              "      <td>0.002840</td>\n",
              "      <td>0.018636</td>\n",
              "      <td>0.010955</td>\n",
              "      <td>-0.005534</td>\n",
              "      <td>0.003173</td>\n",
              "      <td>0.000507</td>\n",
              "    </tr>\n",
              "    <tr>\n",
              "      <th>language</th>\n",
              "      <td>-0.005830</td>\n",
              "      <td>0.005274</td>\n",
              "      <td>-0.013209</td>\n",
              "      <td>0.007838</td>\n",
              "      <td>0.013799</td>\n",
              "      <td>-0.000129</td>\n",
              "      <td>0.516004</td>\n",
              "      <td>-0.638964</td>\n",
              "      <td>-0.451465</td>\n",
              "      <td>-0.385955</td>\n",
              "      <td>...</td>\n",
              "      <td>-0.012683</td>\n",
              "      <td>0.015262</td>\n",
              "      <td>-0.011064</td>\n",
              "      <td>0.015081</td>\n",
              "      <td>-0.011225</td>\n",
              "      <td>0.002996</td>\n",
              "      <td>0.017408</td>\n",
              "      <td>0.024878</td>\n",
              "      <td>-0.018301</td>\n",
              "      <td>0.004107</td>\n",
              "    </tr>\n",
              "    <tr>\n",
              "      <th>city</th>\n",
              "      <td>0.027582</td>\n",
              "      <td>0.001765</td>\n",
              "      <td>0.031304</td>\n",
              "      <td>-0.006571</td>\n",
              "      <td>-0.015922</td>\n",
              "      <td>0.011603</td>\n",
              "      <td>0.002556</td>\n",
              "      <td>-0.007878</td>\n",
              "      <td>0.005145</td>\n",
              "      <td>-0.000274</td>\n",
              "      <td>...</td>\n",
              "      <td>-0.522358</td>\n",
              "      <td>0.036877</td>\n",
              "      <td>-0.287922</td>\n",
              "      <td>0.188116</td>\n",
              "      <td>-0.278953</td>\n",
              "      <td>-0.072545</td>\n",
              "      <td>-0.047508</td>\n",
              "      <td>0.173168</td>\n",
              "      <td>-0.048384</td>\n",
              "      <td>0.022194</td>\n",
              "    </tr>\n",
              "    <tr>\n",
              "      <th>bd</th>\n",
              "      <td>-0.020243</td>\n",
              "      <td>-0.000931</td>\n",
              "      <td>-0.013928</td>\n",
              "      <td>-0.013450</td>\n",
              "      <td>0.040150</td>\n",
              "      <td>-0.002901</td>\n",
              "      <td>0.002919</td>\n",
              "      <td>0.006259</td>\n",
              "      <td>0.024392</td>\n",
              "      <td>0.012462</td>\n",
              "      <td>...</td>\n",
              "      <td>-0.732806</td>\n",
              "      <td>0.112933</td>\n",
              "      <td>-0.418303</td>\n",
              "      <td>0.180714</td>\n",
              "      <td>-0.415794</td>\n",
              "      <td>-0.034733</td>\n",
              "      <td>-0.032827</td>\n",
              "      <td>0.158511</td>\n",
              "      <td>-0.047220</td>\n",
              "      <td>0.046362</td>\n",
              "    </tr>\n",
              "    <tr>\n",
              "      <th>gender</th>\n",
              "      <td>-0.013604</td>\n",
              "      <td>-0.002493</td>\n",
              "      <td>-0.007581</td>\n",
              "      <td>0.011713</td>\n",
              "      <td>-0.013921</td>\n",
              "      <td>-0.003590</td>\n",
              "      <td>-0.005847</td>\n",
              "      <td>0.003297</td>\n",
              "      <td>0.002919</td>\n",
              "      <td>-0.002399</td>\n",
              "      <td>...</td>\n",
              "      <td>1.000000</td>\n",
              "      <td>-0.088816</td>\n",
              "      <td>0.350091</td>\n",
              "      <td>-0.151343</td>\n",
              "      <td>0.351697</td>\n",
              "      <td>0.038373</td>\n",
              "      <td>0.031684</td>\n",
              "      <td>-0.152599</td>\n",
              "      <td>0.070689</td>\n",
              "      <td>-0.013651</td>\n",
              "    </tr>\n",
              "    <tr>\n",
              "      <th>registered_via</th>\n",
              "      <td>0.021340</td>\n",
              "      <td>-0.014185</td>\n",
              "      <td>0.019936</td>\n",
              "      <td>0.002045</td>\n",
              "      <td>0.011389</td>\n",
              "      <td>-0.004645</td>\n",
              "      <td>0.024693</td>\n",
              "      <td>-0.024291</td>\n",
              "      <td>0.007082</td>\n",
              "      <td>-0.007825</td>\n",
              "      <td>...</td>\n",
              "      <td>-0.088816</td>\n",
              "      <td>1.000000</td>\n",
              "      <td>-0.391285</td>\n",
              "      <td>0.103677</td>\n",
              "      <td>-0.415392</td>\n",
              "      <td>-0.009325</td>\n",
              "      <td>-0.023966</td>\n",
              "      <td>0.100924</td>\n",
              "      <td>-0.030183</td>\n",
              "      <td>0.054717</td>\n",
              "    </tr>\n",
              "    <tr>\n",
              "      <th>registration_init_time</th>\n",
              "      <td>-0.024426</td>\n",
              "      <td>0.000422</td>\n",
              "      <td>-0.025072</td>\n",
              "      <td>0.016131</td>\n",
              "      <td>-0.024798</td>\n",
              "      <td>0.010043</td>\n",
              "      <td>0.003881</td>\n",
              "      <td>0.003765</td>\n",
              "      <td>0.002783</td>\n",
              "      <td>-0.001164</td>\n",
              "      <td>...</td>\n",
              "      <td>0.350091</td>\n",
              "      <td>-0.391285</td>\n",
              "      <td>1.000000</td>\n",
              "      <td>-0.128359</td>\n",
              "      <td>0.961249</td>\n",
              "      <td>0.076475</td>\n",
              "      <td>0.039165</td>\n",
              "      <td>-0.115871</td>\n",
              "      <td>0.033024</td>\n",
              "      <td>-0.053265</td>\n",
              "    </tr>\n",
              "    <tr>\n",
              "      <th>expiration_date</th>\n",
              "      <td>-0.011551</td>\n",
              "      <td>0.001374</td>\n",
              "      <td>0.059589</td>\n",
              "      <td>-0.052625</td>\n",
              "      <td>-0.028066</td>\n",
              "      <td>0.079767</td>\n",
              "      <td>0.018109</td>\n",
              "      <td>-0.015685</td>\n",
              "      <td>0.027319</td>\n",
              "      <td>-0.014335</td>\n",
              "      <td>...</td>\n",
              "      <td>-0.151343</td>\n",
              "      <td>0.103677</td>\n",
              "      <td>-0.128359</td>\n",
              "      <td>1.000000</td>\n",
              "      <td>-0.113042</td>\n",
              "      <td>-0.064167</td>\n",
              "      <td>-0.064349</td>\n",
              "      <td>0.836289</td>\n",
              "      <td>-0.082927</td>\n",
              "      <td>0.051686</td>\n",
              "    </tr>\n",
              "    <tr>\n",
              "      <th>registration_init_time_year</th>\n",
              "      <td>-0.034653</td>\n",
              "      <td>-0.000211</td>\n",
              "      <td>-0.011040</td>\n",
              "      <td>0.014307</td>\n",
              "      <td>-0.033527</td>\n",
              "      <td>0.009232</td>\n",
              "      <td>0.002101</td>\n",
              "      <td>0.004204</td>\n",
              "      <td>0.003941</td>\n",
              "      <td>-0.005525</td>\n",
              "      <td>...</td>\n",
              "      <td>0.351697</td>\n",
              "      <td>-0.415392</td>\n",
              "      <td>0.961249</td>\n",
              "      <td>-0.113042</td>\n",
              "      <td>1.000000</td>\n",
              "      <td>-0.042496</td>\n",
              "      <td>0.008144</td>\n",
              "      <td>-0.100267</td>\n",
              "      <td>0.028558</td>\n",
              "      <td>-0.055631</td>\n",
              "    </tr>\n",
              "    <tr>\n",
              "      <th>registration_init_time_month</th>\n",
              "      <td>0.022321</td>\n",
              "      <td>-0.002043</td>\n",
              "      <td>-0.054755</td>\n",
              "      <td>0.001298</td>\n",
              "      <td>0.006969</td>\n",
              "      <td>0.009051</td>\n",
              "      <td>0.004412</td>\n",
              "      <td>-0.003141</td>\n",
              "      <td>-0.003315</td>\n",
              "      <td>0.024249</td>\n",
              "      <td>...</td>\n",
              "      <td>0.038373</td>\n",
              "      <td>-0.009325</td>\n",
              "      <td>0.076475</td>\n",
              "      <td>-0.064167</td>\n",
              "      <td>-0.042496</td>\n",
              "      <td>1.000000</td>\n",
              "      <td>0.056090</td>\n",
              "      <td>-0.044256</td>\n",
              "      <td>-0.002998</td>\n",
              "      <td>-0.043209</td>\n",
              "    </tr>\n",
              "    <tr>\n",
              "      <th>registration_init_time_day</th>\n",
              "      <td>-0.004884</td>\n",
              "      <td>0.021433</td>\n",
              "      <td>0.028283</td>\n",
              "      <td>0.004994</td>\n",
              "      <td>-0.025737</td>\n",
              "      <td>0.017096</td>\n",
              "      <td>-0.006700</td>\n",
              "      <td>0.013886</td>\n",
              "      <td>-0.016767</td>\n",
              "      <td>0.004699</td>\n",
              "      <td>...</td>\n",
              "      <td>0.031684</td>\n",
              "      <td>-0.023966</td>\n",
              "      <td>0.039165</td>\n",
              "      <td>-0.064349</td>\n",
              "      <td>0.008144</td>\n",
              "      <td>0.056090</td>\n",
              "      <td>1.000000</td>\n",
              "      <td>-0.062606</td>\n",
              "      <td>0.009049</td>\n",
              "      <td>0.113400</td>\n",
              "    </tr>\n",
              "    <tr>\n",
              "      <th>expiration_date_year</th>\n",
              "      <td>-0.013155</td>\n",
              "      <td>0.004227</td>\n",
              "      <td>0.042075</td>\n",
              "      <td>-0.041146</td>\n",
              "      <td>-0.035410</td>\n",
              "      <td>0.050577</td>\n",
              "      <td>0.015346</td>\n",
              "      <td>-0.020184</td>\n",
              "      <td>0.016038</td>\n",
              "      <td>-0.015304</td>\n",
              "      <td>...</td>\n",
              "      <td>-0.152599</td>\n",
              "      <td>0.100924</td>\n",
              "      <td>-0.115871</td>\n",
              "      <td>0.836289</td>\n",
              "      <td>-0.100267</td>\n",
              "      <td>-0.044256</td>\n",
              "      <td>-0.062606</td>\n",
              "      <td>1.000000</td>\n",
              "      <td>-0.597326</td>\n",
              "      <td>-0.017354</td>\n",
              "    </tr>\n",
              "    <tr>\n",
              "      <th>expiration_date_month</th>\n",
              "      <td>0.004801</td>\n",
              "      <td>-0.006155</td>\n",
              "      <td>0.009171</td>\n",
              "      <td>-0.007362</td>\n",
              "      <td>0.022142</td>\n",
              "      <td>0.021682</td>\n",
              "      <td>-0.003374</td>\n",
              "      <td>0.015091</td>\n",
              "      <td>0.011490</td>\n",
              "      <td>0.005477</td>\n",
              "      <td>...</td>\n",
              "      <td>0.070689</td>\n",
              "      <td>-0.030183</td>\n",
              "      <td>0.033024</td>\n",
              "      <td>-0.082927</td>\n",
              "      <td>0.028558</td>\n",
              "      <td>-0.002998</td>\n",
              "      <td>0.009049</td>\n",
              "      <td>-0.597326</td>\n",
              "      <td>1.000000</td>\n",
              "      <td>-0.032148</td>\n",
              "    </tr>\n",
              "    <tr>\n",
              "      <th>expiration_date_day</th>\n",
              "      <td>0.012901</td>\n",
              "      <td>0.008322</td>\n",
              "      <td>0.045959</td>\n",
              "      <td>0.022740</td>\n",
              "      <td>-0.032341</td>\n",
              "      <td>0.016497</td>\n",
              "      <td>0.004935</td>\n",
              "      <td>-0.003383</td>\n",
              "      <td>-0.014695</td>\n",
              "      <td>0.013467</td>\n",
              "      <td>...</td>\n",
              "      <td>-0.013651</td>\n",
              "      <td>0.054717</td>\n",
              "      <td>-0.053265</td>\n",
              "      <td>0.051686</td>\n",
              "      <td>-0.055631</td>\n",
              "      <td>-0.043209</td>\n",
              "      <td>0.113400</td>\n",
              "      <td>-0.017354</td>\n",
              "      <td>-0.032148</td>\n",
              "      <td>1.000000</td>\n",
              "    </tr>\n",
              "  </tbody>\n",
              "</table>\n",
              "<p>24 rows × 24 columns</p>\n",
              "</div>\n",
              "      <button class=\"colab-df-convert\" onclick=\"convertToInteractive('df-c0c8696d-57a9-4d1b-a05a-d8b6246655b7')\"\n",
              "              title=\"Convert this dataframe to an interactive table.\"\n",
              "              style=\"display:none;\">\n",
              "        \n",
              "  <svg xmlns=\"http://www.w3.org/2000/svg\" height=\"24px\"viewBox=\"0 0 24 24\"\n",
              "       width=\"24px\">\n",
              "    <path d=\"M0 0h24v24H0V0z\" fill=\"none\"/>\n",
              "    <path d=\"M18.56 5.44l.94 2.06.94-2.06 2.06-.94-2.06-.94-.94-2.06-.94 2.06-2.06.94zm-11 1L8.5 8.5l.94-2.06 2.06-.94-2.06-.94L8.5 2.5l-.94 2.06-2.06.94zm10 10l.94 2.06.94-2.06 2.06-.94-2.06-.94-.94-2.06-.94 2.06-2.06.94z\"/><path d=\"M17.41 7.96l-1.37-1.37c-.4-.4-.92-.59-1.43-.59-.52 0-1.04.2-1.43.59L10.3 9.45l-7.72 7.72c-.78.78-.78 2.05 0 2.83L4 21.41c.39.39.9.59 1.41.59.51 0 1.02-.2 1.41-.59l7.78-7.78 2.81-2.81c.8-.78.8-2.07 0-2.86zM5.41 20L4 18.59l7.72-7.72 1.47 1.35L5.41 20z\"/>\n",
              "  </svg>\n",
              "      </button>\n",
              "      \n",
              "  <style>\n",
              "    .colab-df-container {\n",
              "      display:flex;\n",
              "      flex-wrap:wrap;\n",
              "      gap: 12px;\n",
              "    }\n",
              "\n",
              "    .colab-df-convert {\n",
              "      background-color: #E8F0FE;\n",
              "      border: none;\n",
              "      border-radius: 50%;\n",
              "      cursor: pointer;\n",
              "      display: none;\n",
              "      fill: #1967D2;\n",
              "      height: 32px;\n",
              "      padding: 0 0 0 0;\n",
              "      width: 32px;\n",
              "    }\n",
              "\n",
              "    .colab-df-convert:hover {\n",
              "      background-color: #E2EBFA;\n",
              "      box-shadow: 0px 1px 2px rgba(60, 64, 67, 0.3), 0px 1px 3px 1px rgba(60, 64, 67, 0.15);\n",
              "      fill: #174EA6;\n",
              "    }\n",
              "\n",
              "    [theme=dark] .colab-df-convert {\n",
              "      background-color: #3B4455;\n",
              "      fill: #D2E3FC;\n",
              "    }\n",
              "\n",
              "    [theme=dark] .colab-df-convert:hover {\n",
              "      background-color: #434B5C;\n",
              "      box-shadow: 0px 1px 3px 1px rgba(0, 0, 0, 0.15);\n",
              "      filter: drop-shadow(0px 1px 2px rgba(0, 0, 0, 0.3));\n",
              "      fill: #FFFFFF;\n",
              "    }\n",
              "  </style>\n",
              "\n",
              "      <script>\n",
              "        const buttonEl =\n",
              "          document.querySelector('#df-c0c8696d-57a9-4d1b-a05a-d8b6246655b7 button.colab-df-convert');\n",
              "        buttonEl.style.display =\n",
              "          google.colab.kernel.accessAllowed ? 'block' : 'none';\n",
              "\n",
              "        async function convertToInteractive(key) {\n",
              "          const element = document.querySelector('#df-c0c8696d-57a9-4d1b-a05a-d8b6246655b7');\n",
              "          const dataTable =\n",
              "            await google.colab.kernel.invokeFunction('convertToInteractive',\n",
              "                                                     [key], {});\n",
              "          if (!dataTable) return;\n",
              "\n",
              "          const docLinkHtml = 'Like what you see? Visit the ' +\n",
              "            '<a target=\"_blank\" href=https://colab.research.google.com/notebooks/data_table.ipynb>data table notebook</a>'\n",
              "            + ' to learn more about interactive tables.';\n",
              "          element.innerHTML = '';\n",
              "          dataTable['output_type'] = 'display_data';\n",
              "          await google.colab.output.renderOutput(dataTable, element);\n",
              "          const docLink = document.createElement('div');\n",
              "          docLink.innerHTML = docLinkHtml;\n",
              "          element.appendChild(docLink);\n",
              "        }\n",
              "      </script>\n",
              "    </div>\n",
              "  </div>\n",
              "  "
            ]
          },
          "metadata": {},
          "execution_count": 19
        }
      ],
      "source": [
        "df.corr()"
      ]
    },
    {
      "cell_type": "code",
      "execution_count": 20,
      "metadata": {
        "execution": {
          "iopub.execute_input": "2022-03-15T15:51:21.214400Z",
          "iopub.status.busy": "2022-03-15T15:51:21.213978Z",
          "iopub.status.idle": "2022-03-15T15:51:23.075815Z",
          "shell.execute_reply": "2022-03-15T15:51:23.074969Z",
          "shell.execute_reply.started": "2022-03-15T15:51:21.214357Z"
        },
        "trusted": true,
        "colab": {
          "base_uri": "https://localhost:8080/",
          "height": 457
        },
        "id": "fredaMGHwU3O",
        "outputId": "db023b08-9c29-4b9d-b85d-8482b0b51a7a"
      },
      "outputs": [
        {
          "output_type": "display_data",
          "data": {
            "text/plain": [
              "<Figure size 504x360 with 2 Axes>"
            ],
            "image/png": "[encoded data removed]"
          },
          "metadata": {
            "needs_background": "light"
          }
        }
      ],
      "source": [
        "plt.figure(figsize=[7,5])\n",
        "sns.heatmap(df.corr())\n",
        "plt.show()"
      ]
    },
    {
      "cell_type": "markdown",
      "metadata": {
        "id": "h0UNvfwNwU3O"
      },
      "source": [
        "### RandomForest"
      ]
    },
    {
      "cell_type": "code",
      "execution_count": 21,
      "metadata": {
        "execution": {
          "iopub.execute_input": "2022-03-15T15:51:23.077341Z",
          "iopub.status.busy": "2022-03-15T15:51:23.077127Z",
          "iopub.status.idle": "2022-03-15T16:02:27.981679Z",
          "shell.execute_reply": "2022-03-15T16:02:27.980618Z",
          "shell.execute_reply.started": "2022-03-15T15:51:23.077315Z"
        },
        "trusted": true,
        "colab": {
          "base_uri": "https://localhost:8080/"
        },
        "id": "3DP4Emo6wU3O",
        "outputId": "78a4c889-fa08-41c1-e5a5-e8b00054c731"
      },
      "outputs": [
        {
          "output_type": "execute_result",
          "data": {
            "text/plain": [
              "RandomForestClassifier(max_depth=25, n_estimators=250)"
            ]
          },
          "metadata": {},
          "execution_count": 21
        }
      ],
      "source": [
        "# Model with the best estimator\n",
        "model = ensemble.RandomForestClassifier(n_estimators=250, max_depth=25)\n",
        "model.fit(df[df.columns[df.columns != 'target']], df.target)"
      ]
    },
    {
      "cell_type": "code",
      "execution_count": 22,
      "metadata": {
        "execution": {
          "iopub.execute_input": "2022-03-15T16:02:27.982869Z",
          "iopub.status.busy": "2022-03-15T16:02:27.982639Z",
          "iopub.status.idle": "2022-03-15T16:02:28.486826Z",
          "shell.execute_reply": "2022-03-15T16:02:28.486245Z",
          "shell.execute_reply.started": "2022-03-15T16:02:27.982831Z"
        },
        "trusted": true,
        "id": "ZKD6bm49wU3O"
      },
      "outputs": [],
      "source": [
        "df_plot = pd.DataFrame({'features': df.columns[df.columns != 'target'],\n",
        "                        'importances': model.feature_importances_})\n",
        "df_plot = df_plot.sort_values('importances', ascending=False)"
      ]
    },
    {
      "cell_type": "code",
      "execution_count": 23,
      "metadata": {
        "execution": {
          "iopub.execute_input": "2022-03-15T16:02:28.488559Z",
          "iopub.status.busy": "2022-03-15T16:02:28.488100Z",
          "iopub.status.idle": "2022-03-15T16:02:28.834158Z",
          "shell.execute_reply": "2022-03-15T16:02:28.833350Z",
          "shell.execute_reply.started": "2022-03-15T16:02:28.488519Z"
        },
        "trusted": true,
        "colab": {
          "base_uri": "https://localhost:8080/",
          "height": 350
        },
        "id": "KLKqHKHcwU3P",
        "outputId": "78c6d296-b967-47e1-e376-d624e1e3d54d"
      },
      "outputs": [
        {
          "output_type": "display_data",
          "data": {
            "text/plain": [
              "<Figure size 792x360 with 1 Axes>"
            ],
            "image/png": "[encoded data removed]"
          },
          "metadata": {
            "needs_background": "light"
          }
        }
      ],
      "source": [
        "plt.figure(figsize=[11,5])\n",
        "sns.barplot(x = df_plot.importances, y = df_plot.features)\n",
        "plt.title('Importances of Features Plot')\n",
        "plt.show()"
      ]
    },
    {
      "cell_type": "code",
      "execution_count": 24,
      "metadata": {
        "execution": {
          "iopub.execute_input": "2022-03-15T16:02:28.836050Z",
          "iopub.status.busy": "2022-03-15T16:02:28.835592Z",
          "iopub.status.idle": "2022-03-15T16:02:29.486808Z",
          "shell.execute_reply": "2022-03-15T16:02:29.486277Z",
          "shell.execute_reply.started": "2022-03-15T16:02:28.836009Z"
        },
        "trusted": true,
        "colab": {
          "base_uri": "https://localhost:8080/"
        },
        "id": "5gNvniANwU3P",
        "outputId": "2059e01b-1861-42fd-b14a-fea8ddb077ab"
      },
      "outputs": [
        {
          "output_type": "execute_result",
          "data": {
            "text/plain": [
              "array([0.07769906, 0.13906098, 0.04695254, 0.07757925, 0.0669318 ,\n",
              "       0.02451252, 0.01482518, 0.02524742, 0.02018397, 0.01534011,\n",
              "       0.01239847, 0.03507286, 0.04431582, 0.01620409, 0.01822466,\n",
              "       0.07426443, 0.06615163, 0.0335009 , 0.04493688, 0.0596839 ,\n",
              "       0.00689866, 0.02738087, 0.05263399])"
            ]
          },
          "metadata": {},
          "execution_count": 24
        }
      ],
      "source": [
        "model.feature_importances_"
      ]
    },
    {
      "cell_type": "code",
      "execution_count": 25,
      "metadata": {
        "execution": {
          "iopub.execute_input": "2022-03-15T16:02:29.488249Z",
          "iopub.status.busy": "2022-03-15T16:02:29.487902Z",
          "iopub.status.idle": "2022-03-15T16:02:29.506839Z",
          "shell.execute_reply": "2022-03-15T16:02:29.505830Z",
          "shell.execute_reply.started": "2022-03-15T16:02:29.488212Z"
        },
        "trusted": true,
        "colab": {
          "base_uri": "https://localhost:8080/"
        },
        "id": "4iwE18CiwU3P",
        "outputId": "052f69b6-641a-4147-9817-3d632f896fec"
      },
      "outputs": [
        {
          "output_type": "stream",
          "name": "stderr",
          "text": [
            "/usr/local/lib/python3.7/dist-packages/ipykernel_launcher.py:1: FutureWarning: In a future version of pandas all arguments of DataFrame.drop except for the argument 'labels' will be keyword-only\n",
            "  \"\"\"Entry point for launching an IPython kernel.\n"
          ]
        }
      ],
      "source": [
        "df = df.drop(df_plot.features[df_plot.importances < 0.04].tolist(), 1)"
      ]
    },
    {
      "cell_type": "code",
      "execution_count": 26,
      "metadata": {
        "execution": {
          "iopub.execute_input": "2022-03-15T16:02:29.508227Z",
          "iopub.status.busy": "2022-03-15T16:02:29.507992Z",
          "iopub.status.idle": "2022-03-15T16:02:29.519337Z",
          "shell.execute_reply": "2022-03-15T16:02:29.518657Z",
          "shell.execute_reply.started": "2022-03-15T16:02:29.508201Z"
        },
        "trusted": true,
        "colab": {
          "base_uri": "https://localhost:8080/"
        },
        "id": "p3W01_iswU3P",
        "outputId": "491f35f5-3114-4def-a869-1852947c306d"
      },
      "outputs": [
        {
          "output_type": "execute_result",
          "data": {
            "text/plain": [
              "['msno',\n",
              " 'song_id',\n",
              " 'source_system_tab',\n",
              " 'source_screen_name',\n",
              " 'source_type',\n",
              " 'target',\n",
              " 'bd',\n",
              " 'registration_init_time',\n",
              " 'expiration_date',\n",
              " 'registration_init_time_month',\n",
              " 'registration_init_time_day',\n",
              " 'expiration_date_day']"
            ]
          },
          "metadata": {},
          "execution_count": 26
        }
      ],
      "source": [
        "list(df.columns)"
      ]
    },
    {
      "cell_type": "code",
      "execution_count": 27,
      "metadata": {
        "execution": {
          "iopub.execute_input": "2022-03-15T16:02:29.520718Z",
          "iopub.status.busy": "2022-03-15T16:02:29.520532Z",
          "iopub.status.idle": "2022-03-15T16:02:29.529598Z",
          "shell.execute_reply": "2022-03-15T16:02:29.528834Z",
          "shell.execute_reply.started": "2022-03-15T16:02:29.520695Z"
        },
        "trusted": true,
        "id": "B1vqtFxdwU3P"
      },
      "outputs": [],
      "source": [
        "target = df.pop('target')"
      ]
    },
    {
      "cell_type": "code",
      "execution_count": 28,
      "metadata": {
        "execution": {
          "iopub.execute_input": "2022-03-15T16:02:29.531059Z",
          "iopub.status.busy": "2022-03-15T16:02:29.530420Z",
          "iopub.status.idle": "2022-03-15T16:02:29.539173Z",
          "shell.execute_reply": "2022-03-15T16:02:29.538704Z",
          "shell.execute_reply.started": "2022-03-15T16:02:29.531021Z"
        },
        "trusted": true,
        "id": "DTFiOY3-wU3Q"
      },
      "outputs": [],
      "source": [
        "from sklearn.model_selection import train_test_split"
      ]
    },
    {
      "cell_type": "code",
      "execution_count": 29,
      "metadata": {
        "execution": {
          "iopub.execute_input": "2022-03-15T16:02:29.542449Z",
          "iopub.status.busy": "2022-03-15T16:02:29.541956Z",
          "iopub.status.idle": "2022-03-15T16:06:50.049735Z",
          "shell.execute_reply": "2022-03-15T16:06:50.048848Z",
          "shell.execute_reply.started": "2022-03-15T16:02:29.542420Z"
        },
        "trusted": true,
        "colab": {
          "base_uri": "https://localhost:8080/"
        },
        "id": "qqpqpE4PwU3Q",
        "outputId": "66211d7b-3bee-4bbd-976a-fb6a201810d1"
      },
      "outputs": [
        {
          "output_type": "execute_result",
          "data": {
            "text/plain": [
              "XGBClassifier(max_depth=15, min_child_weight=5, n_estimators=250)"
            ]
          },
          "metadata": {},
          "execution_count": 29
        }
      ],
      "source": [
        "train_data, test_data, train_labels, test_labels = train_test_split(df, target, test_size = 0.3)\n",
        "model = xgb.XGBClassifier(learning_rate=0.1, max_depth=15, min_child_weight=5, n_estimators=250)\n",
        "model.fit(train_data, train_labels)"
      ]
    },
    {
      "cell_type": "code",
      "execution_count": 30,
      "metadata": {
        "execution": {
          "iopub.execute_input": "2022-03-15T16:06:50.051115Z",
          "iopub.status.busy": "2022-03-15T16:06:50.050897Z",
          "iopub.status.idle": "2022-03-15T16:06:52.477491Z",
          "shell.execute_reply": "2022-03-15T16:06:52.476570Z",
          "shell.execute_reply.started": "2022-03-15T16:06:50.051090Z"
        },
        "trusted": true,
        "colab": {
          "base_uri": "https://localhost:8080/"
        },
        "id": "rCDvGGcDwU3Q",
        "outputId": "53d3a03f-f629-444a-bd8c-957cfc5186b9"
      },
      "outputs": [
        {
          "output_type": "stream",
          "name": "stdout",
          "text": [
            "              precision    recall  f1-score   support\n",
            "\n",
            "         0.0       0.56      0.40      0.47       394\n",
            "         1.0       0.83      0.90      0.86      1246\n",
            "\n",
            "    accuracy                           0.78      1640\n",
            "   macro avg       0.69      0.65      0.66      1640\n",
            "weighted avg       0.76      0.78      0.77      1640\n",
            "\n"
          ]
        }
      ],
      "source": [
        "predict_labels = model.predict(test_data)\n",
        "print(metrics.classification_report(test_labels, predict_labels))"
      ]
    }
  ],
  "metadata": {
    "kernelspec": {
      "display_name": "Python 3",
      "language": "python",
      "name": "python3"
    },
    "language_info": {
      "codemirror_mode": {
        "name": "ipython",
        "version": 3
      },
      "file_extension": ".py",
      "mimetype": "text/x-python",
      "name": "python",
      "nbconvert_exporter": "python",
      "pygments_lexer": "ipython3",
      "version": "3.7.12"
    },
    "colab": {
      "name": "music-recommendation.ipynb",
      "provenance": []
    }
  },
  "nbformat": 4,
  "nbformat_minor": 0
}
